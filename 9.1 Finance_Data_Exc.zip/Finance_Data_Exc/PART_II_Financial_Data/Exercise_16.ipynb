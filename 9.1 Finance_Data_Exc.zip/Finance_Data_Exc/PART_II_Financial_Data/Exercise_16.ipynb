{
 "cells": [
  {
   "cell_type": "markdown",
   "metadata": {},
   "source": [
    "# Coding Exercises (Part 16)"
   ]
  },
  {
   "cell_type": "markdown",
   "metadata": {},
   "source": [
    "## Financial Portfolios"
   ]
  },
  {
   "cell_type": "markdown",
   "metadata": {},
   "source": [
    "### Exercise 16 : Modern Portfolio Theory and Asset Pricing "
   ]
  },
  {
   "cell_type": "markdown",
   "metadata": {},
   "source": [
    "Now, you will have the opportunity to analyze your own dataset. <br>\n",
    "__Follow the instructions__ and insert your code! You are either requested to \n",
    "- Complete the Code and __Fill in the gaps__. Gaps are marked with \"__---__\" and are __placeholders__ for your code fragment \n",
    "- Write Code completely __on your own__ "
   ]
  },
  {
   "cell_type": "markdown",
   "metadata": {},
   "source": [
    "In some exercises, you will find questions that can only be answered, if your code is correct and returns the right output! The correct answer is provided below your coding cell. There you can check whether your code is correct."
   ]
  },
  {
   "cell_type": "markdown",
   "metadata": {},
   "source": [
    "If you need a hint, check the __Hints Section__ at the end of this Notebook. Exercises and Hints are numerated accordingly."
   ]
  },
  {
   "cell_type": "markdown",
   "metadata": {},
   "source": [
    "If you need some further help or if you want to check your code, you can also check the __solutions notebook__."
   ]
  },
  {
   "cell_type": "markdown",
   "metadata": {},
   "source": [
    "### Have Fun!"
   ]
  },
  {
   "cell_type": "markdown",
   "metadata": {},
   "source": [
    "--------------------------------------------------------------------------------------------------------------"
   ]
  },
  {
   "cell_type": "markdown",
   "metadata": {},
   "source": [
    "## Option 1: Self_guided"
   ]
  },
  {
   "cell_type": "markdown",
   "metadata": {},
   "source": [
    "Import the datasets __us_stocks.csv__ and __SP500_TR.csv__ and select the 5-Year period from __31-12-2013__ (incl.) until __31-12-2018__ (incl.). Save the DataFrames in the variables __stocks__ and __SP500__ and finally __add the S&P 500__ to the stocks DataFrame as the best approximation for the Market Portfolio (column __\"MP\"__)!"
   ]
  },
  {
   "cell_type": "markdown",
   "metadata": {},
   "source": [
    "__Calculate__ (simple) __daily returns__ for the six stocks and the Market Portfolio and calculate the __annualized Risk and Return__! (Use the user-defined function ann_risk_return)"
   ]
  },
  {
   "cell_type": "code",
   "execution_count": null,
   "metadata": {},
   "outputs": [],
   "source": [
    "def ann_risk_return(returns_df):\n",
    "    summary = returns_df.agg([\"mean\", \"std\"]).T\n",
    "    summary.columns = [\"Return\", \"Risk\"]\n",
    "    summary.Return = summary.Return*252\n",
    "    summary.Risk = summary.Risk * np.sqrt(252)\n",
    "    return summary"
   ]
  },
  {
   "cell_type": "markdown",
   "metadata": {},
   "source": [
    "Assume that the approx. __risk-free Return__ is __1.7%__ p.a."
   ]
  },
  {
   "cell_type": "markdown",
   "metadata": {},
   "source": [
    "__Calculate__ the following __Metrics__ for the six stocks and the Market Portfolio: "
   ]
  },
  {
   "cell_type": "markdown",
   "metadata": {},
   "source": [
    "- Sharpe Ratio\n",
    "- Total Risk in Variance Units\n",
    "- the annualized Covariance Matrix\n",
    "- Systematic Risk\n",
    "- Unsystematic Risk\n",
    "- beta\n",
    "- Required Return as per CAPM Model (capm_ret)\n",
    "- alpha"
   ]
  },
  {
   "cell_type": "markdown",
   "metadata": {},
   "source": [
    "Visualize __Systematic Risk__ and __Unsystematic Risk__ for all stocks and the MP in a __Barchart__. Which __Company__ most likely showed the __highest portion__ of __Company-specific Risk__ that can be diversified away in the Market Portfolio?"
   ]
  },
  {
   "cell_type": "markdown",
   "metadata": {},
   "source": [
    "__Visualize__ the __Security Market Line__. __Determine__ the stocks that __overperformed__ and __underperformed__ the __Market__ in the Systematic Risk/Return Framework (CAPM)."
   ]
  },
  {
   "cell_type": "markdown",
   "metadata": {},
   "source": [
    "------------------------"
   ]
  },
  {
   "cell_type": "markdown",
   "metadata": {},
   "source": [
    "## Option 2: Guided and Instructed"
   ]
  },
  {
   "cell_type": "markdown",
   "metadata": {},
   "source": [
    "# STOP HERE, IF YOU WANT TO DO THE EXERCISE ON YOUR OWN!"
   ]
  },
  {
   "cell_type": "markdown",
   "metadata": {},
   "source": [
    "+++++++++++++++++++++++++++++++++++++++++++++++++++++++++++++++++++++++++++++++++++++++++++++++++++++++++++++++++++++++++"
   ]
  },
  {
   "cell_type": "code",
   "execution_count": null,
   "metadata": {},
   "outputs": [],
   "source": [
    "#run the cell!\n",
    "import pandas as pd\n",
    "import numpy as np\n",
    "import matplotlib.pyplot as plt\n",
    "plt.style.use(\"seaborn\")\n",
    "\n",
    "pd.options.display.float_format = '{:.2f}'.format"
   ]
  },
  {
   "cell_type": "markdown",
   "metadata": {},
   "source": [
    "164. __Import__ the files __us_stocks.csv__ and __SP500_TR.csv__ and select the __appropriate Price Data__ to calculate __Total Returns__! (Close vs. Adj Close) <br> __Assign__ the variables __stocks__ and __SP500__! __Fill in the gaps!__"
   ]
  },
  {
   "cell_type": "code",
   "execution_count": null,
   "metadata": {},
   "outputs": [],
   "source": [
    "stocks = pd.read_csv(\"us_stocks.csv\", header = [0,1], index_col = [0], parse_dates = [0])[\"---\"]\n",
    "SP500 =  pd.read_csv(\"SP500_TR.csv\", index_col = \"Date\", parse_dates = [\"Date\"])[\"---\"].to_frame()"
   ]
  },
  {
   "cell_type": "markdown",
   "metadata": {},
   "source": [
    "165. __Select__ the 5-Year Period from __2014__ (incl.) until __2018__ (incl.) and __overwrite stocks__ and __SP500__! (Hint: Start with \"2013-12-31\")"
   ]
  },
  {
   "cell_type": "code",
   "execution_count": null,
   "metadata": {},
   "outputs": [],
   "source": []
  },
  {
   "cell_type": "code",
   "execution_count": null,
   "metadata": {},
   "outputs": [],
   "source": [
    "#run the cell!\n",
    "stocks.head()"
   ]
  },
  {
   "cell_type": "code",
   "execution_count": null,
   "metadata": {},
   "outputs": [],
   "source": [
    "#run the cell!\n",
    "stocks.tail()"
   ]
  },
  {
   "cell_type": "code",
   "execution_count": null,
   "metadata": {},
   "outputs": [],
   "source": [
    "#run the cell!\n",
    "SP500.head()"
   ]
  },
  {
   "cell_type": "code",
   "execution_count": null,
   "metadata": {},
   "outputs": [],
   "source": [
    "#run the cell!\n",
    "SP500.tail()"
   ]
  },
  {
   "cell_type": "markdown",
   "metadata": {},
   "source": [
    "166. __Add__ the __S&P 500__ to the __stocks__ DataFrame and create a __new column \"MP\"__ (Market Portfolio)! __Fill in the gaps__!"
   ]
  },
  {
   "cell_type": "code",
   "execution_count": null,
   "metadata": {},
   "outputs": [],
   "source": [
    "stocks[---] = SP500[\"Adj Close\"]"
   ]
  },
  {
   "cell_type": "code",
   "execution_count": null,
   "metadata": {},
   "outputs": [],
   "source": [
    "#run the cell!\n",
    "stocks.head()"
   ]
  },
  {
   "cell_type": "markdown",
   "metadata": {},
   "source": [
    "167. __Create__ and __save__ the (daily, simple) __returns__ DataFrame in the variable __ret__!"
   ]
  },
  {
   "cell_type": "code",
   "execution_count": null,
   "metadata": {},
   "outputs": [],
   "source": []
  },
  {
   "cell_type": "markdown",
   "metadata": {},
   "source": [
    "168. Create the user-defined function __ann_risk_return__ and calculate __annualized risk and return__ for the six constituents and the Market Portfolio! __Save__ the resulting DataFrame in the variable __summary__"
   ]
  },
  {
   "cell_type": "code",
   "execution_count": null,
   "metadata": {},
   "outputs": [],
   "source": [
    "#run the cell!\n",
    "def ann_risk_return(returns_df):\n",
    "    summary = returns_df.agg([\"mean\", \"std\"]).T\n",
    "    summary.columns = [\"Return\", \"Risk\"]\n",
    "    summary.Return = summary.Return*252\n",
    "    summary.Risk = summary.Risk * np.sqrt(252)\n",
    "    return summary"
   ]
  },
  {
   "cell_type": "code",
   "execution_count": null,
   "metadata": {},
   "outputs": [],
   "source": []
  },
  {
   "cell_type": "code",
   "execution_count": null,
   "metadata": {},
   "outputs": [],
   "source": [
    "#run the cell!\n",
    "summary"
   ]
  },
  {
   "cell_type": "code",
   "execution_count": null,
   "metadata": {},
   "outputs": [],
   "source": [
    "#run the cell!\n",
    "summary.plot(kind = \"scatter\", x = \"Risk\", y = \"Return\", figsize = (13,9), s = 50, fontsize = 15)\n",
    "for i in summary.index:\n",
    "    plt.annotate(i, xy=(summary.loc[i, \"Risk\"]+0.002, summary.loc[i, \"Return\"]+0.002), size = 15)\n",
    "plt.xlabel(\"ann. Risk(std)\", fontsize = 15)\n",
    "plt.ylabel(\"ann. Return\", fontsize = 15)\n",
    "plt.title(\"Risk/Return\", fontsize = 20)\n",
    "plt.show()"
   ]
  },
  {
   "cell_type": "markdown",
   "metadata": {},
   "source": [
    "The __risk-free return__ of the risk-free asset is __1.7%__ p.a."
   ]
  },
  {
   "cell_type": "code",
   "execution_count": null,
   "metadata": {},
   "outputs": [],
   "source": [
    "# run the cell!\n",
    "risk_free_return = 0.017\n",
    "risk_free_risk = 0"
   ]
  },
  {
   "cell_type": "code",
   "execution_count": null,
   "metadata": {},
   "outputs": [],
   "source": [
    "# run the cell!\n",
    "rf = [risk_free_return, risk_free_risk]\n",
    "rf"
   ]
  },
  {
   "cell_type": "markdown",
   "metadata": {},
   "source": [
    "169. __Calculate__ the __Sharpe Ratio__ for all seven assets in summary and __add__ the __column \"Sharpe\"__ to summary!"
   ]
  },
  {
   "cell_type": "code",
   "execution_count": null,
   "metadata": {},
   "outputs": [],
   "source": []
  },
  {
   "cell_type": "code",
   "execution_count": null,
   "metadata": {},
   "outputs": [],
   "source": [
    "# run the cell!\n",
    "summary"
   ]
  },
  {
   "cell_type": "markdown",
   "metadata": {},
   "source": [
    "170. __Convert__ the __risk__ to variance units and __add__ the new __column \"TotalRisk_var\"__. __Fill in the gaps__!"
   ]
  },
  {
   "cell_type": "code",
   "execution_count": null,
   "metadata": {},
   "outputs": [],
   "source": [
    "summary[\"TotalRisk_var\"] = np.---(summary.Risk, ---)"
   ]
  },
  {
   "cell_type": "code",
   "execution_count": null,
   "metadata": {},
   "outputs": [],
   "source": [
    "# run the cell!\n",
    "summary"
   ]
  },
  {
   "cell_type": "markdown",
   "metadata": {},
   "source": [
    "171. __Create__ the annualized __Covariance Matrix__ and assign the variable __COV__! __Fill in the gaps__!"
   ]
  },
  {
   "cell_type": "code",
   "execution_count": null,
   "metadata": {},
   "outputs": [],
   "source": [
    "COV = ret.---()*252"
   ]
  },
  {
   "cell_type": "code",
   "execution_count": null,
   "metadata": {},
   "outputs": [],
   "source": [
    "# run the cell!\n",
    "COV"
   ]
  },
  {
   "cell_type": "markdown",
   "metadata": {},
   "source": [
    "172. __Add__ the column __\"SystRisk_var\"__ to the DataFrame summary, that shows the __Systematic Risk (Market Risk__) in relation to the Market Portfolio (__MP__). <br>\n",
    "__Fill in the gaps__!"
   ]
  },
  {
   "cell_type": "code",
   "execution_count": null,
   "metadata": {},
   "outputs": [],
   "source": [
    "summary[\"SystRisk_var\"] = COV.iloc[:, ---]"
   ]
  },
  {
   "cell_type": "markdown",
   "metadata": {},
   "source": [
    "173. __Add__ the column __\"UnsystRisk_var\"__ with the __Unsystematic Risk (Company-specific Risk__!)    "
   ]
  },
  {
   "cell_type": "code",
   "execution_count": null,
   "metadata": {},
   "outputs": [],
   "source": []
  },
  {
   "cell_type": "code",
   "execution_count": null,
   "metadata": {},
   "outputs": [],
   "source": [
    "# run the cell!\n",
    "summary"
   ]
  },
  {
   "cell_type": "markdown",
   "metadata": {},
   "source": [
    "174. Visualize __System. Risk & Unsystem. Risk__ of each Stock and the MP with a __barplot__! __Fill in the gaps__! <br>\n",
    "Which __Company__ most likely showed the __highest portion__ of __Company-specific Risk__ that can be diversified away in the Market Portfolio?"
   ]
  },
  {
   "cell_type": "code",
   "execution_count": null,
   "metadata": {},
   "outputs": [],
   "source": [
    "summary.iloc[:, 4:].---(kind = ---, stacked = True, figsize= (15, 8), fontsize = 15)\n",
    "plt.legend(fontsize = 15)\n",
    "plt.show()"
   ]
  },
  {
   "cell_type": "markdown",
   "metadata": {},
   "source": [
    "The company-specific risk is extremely high for ... the Facebook stock."
   ]
  },
  {
   "cell_type": "markdown",
   "metadata": {},
   "source": [
    "175. __Normalize__ the __Systematic Risk__ and create a __new column \"beta\"__ with the Beta-Factor! __Fill in the gaps__! <br> Which __Company__ has the highest __Beta-Factor__?"
   ]
  },
  {
   "cell_type": "code",
   "execution_count": null,
   "metadata": {},
   "outputs": [],
   "source": [
    "summary[\"beta\"] = summary.--- / summary.loc[\"MP\", \"SystRisk_var\"]"
   ]
  },
  {
   "cell_type": "code",
   "execution_count": null,
   "metadata": {
    "scrolled": true
   },
   "outputs": [],
   "source": [
    "# run the cell!\n",
    "summary"
   ]
  },
  {
   "cell_type": "markdown",
   "metadata": {},
   "source": [
    "Facebook has the highest Beta-Factor and has therefore the highest exposure to market-specific Risk."
   ]
  },
  {
   "cell_type": "markdown",
   "metadata": {},
   "source": [
    "176. Create the __Security Market Line__! __Fill in the gaps__! <br>\n",
    "__Determine__ the stocks that __overperformed__ and __underperformed__ the __Market__ in the Systematic Risk/Return Framework (CAPM)."
   ]
  },
  {
   "cell_type": "code",
   "execution_count": null,
   "metadata": {},
   "outputs": [],
   "source": [
    "plt.figure(figsize = (15, 8))\n",
    "plt.scatter(summary.---, summary.---)\n",
    "for i in summary.index:\n",
    "    plt.annotate(i, xy=(summary.loc[i, \"beta\"]+0.00, summary.loc[i, \"Return\"]-0.015), size = 15)\n",
    "plt.plot([rf[1], summary.loc[\"MP\", \"beta\"]], [rf[0], summary.loc[\"MP\", \"Return\"]])\n",
    "plt.scatter(rf[1], rf[0], s = 100, marker = \"o\", c = \"green\")\n",
    "plt.annotate(\"Risk Free Asset\", xy = (rf[1] + 0.002, rf[0] - 0.02), size = 20, color = \"green\")\n",
    "plt.xlabel(\"beta\", fontsize = 15)\n",
    "plt.ylabel(\"ann. Return\", fontsize = 15)\n",
    "plt.title(\"beta / Return\", fontsize = 20)\n",
    "plt.show()"
   ]
  },
  {
   "cell_type": "markdown",
   "metadata": {},
   "source": [
    "There is only one stock that underperformed the Market ... American Express (having tough times with Fintechs?)"
   ]
  },
  {
   "cell_type": "markdown",
   "metadata": {},
   "source": [
    "177. __Add__ the new __column \"capm_ret\"__ with the __required Return__ according to the __CAPM__ Model! __Fill in the gaps__!"
   ]
  },
  {
   "cell_type": "code",
   "execution_count": null,
   "metadata": {},
   "outputs": [],
   "source": [
    "summary[\"capm_ret\"] = rf[0] + (summary.loc[\"MP\", ---] - rf[0]) * summary.---"
   ]
  },
  {
   "cell_type": "markdown",
   "metadata": {},
   "source": [
    "178. Finally, __add__ the new __column \"alpha\"__ showing the over-/underperformance (Excess Return)! <br>\n",
    "Which __Company__ shows the __highest__ / __lowest__ alpha?"
   ]
  },
  {
   "cell_type": "code",
   "execution_count": null,
   "metadata": {},
   "outputs": [],
   "source": []
  },
  {
   "cell_type": "code",
   "execution_count": null,
   "metadata": {},
   "outputs": [],
   "source": [
    "# run the cell!\n",
    "summary"
   ]
  },
  {
   "cell_type": "markdown",
   "metadata": {},
   "source": [
    "Highest alpha: Facebook; lowest alpha: American Express"
   ]
  },
  {
   "cell_type": "markdown",
   "metadata": {},
   "source": [
    "# Well Done!"
   ]
  },
  {
   "cell_type": "markdown",
   "metadata": {},
   "source": [
    "-------------------"
   ]
  },
  {
   "cell_type": "markdown",
   "metadata": {},
   "source": [
    "# Hints (Spoiler!)"
   ]
  },
  {
   "cell_type": "markdown",
   "metadata": {},
   "source": [
    "164. Select the Adj Close Prices"
   ]
  },
  {
   "cell_type": "markdown",
   "metadata": {},
   "source": [
    "165. df = df.loc[--- : ---]"
   ]
  },
  {
   "cell_type": "markdown",
   "metadata": {},
   "source": [
    "166. new column with label \"MP\""
   ]
  },
  {
   "cell_type": "markdown",
   "metadata": {},
   "source": [
    "167. pct_change() and dropna() method"
   ]
  },
  {
   "cell_type": "markdown",
   "metadata": {},
   "source": [
    "168. summary = ann_risk_return(--)"
   ]
  },
  {
   "cell_type": "markdown",
   "metadata": {},
   "source": [
    "169. Sharpe Ratio = (Asset Return - Risk Free Return) / Asset Risk"
   ]
  },
  {
   "cell_type": "markdown",
   "metadata": {},
   "source": [
    "170. numpy method power(), to the power of 2"
   ]
  },
  {
   "cell_type": "markdown",
   "metadata": {},
   "source": [
    "171. cov() method"
   ]
  },
  {
   "cell_type": "markdown",
   "metadata": {},
   "source": [
    "172. the very last column in COV shows the covariance of the stocks with the MP (=Systematic Risk)"
   ]
  },
  {
   "cell_type": "markdown",
   "metadata": {},
   "source": [
    "173. Unsystematic Risk = Total Risk - Systematic Risk"
   ]
  },
  {
   "cell_type": "markdown",
   "metadata": {},
   "source": [
    "174. plot() method, \"bar\" plot"
   ]
  },
  {
   "cell_type": "markdown",
   "metadata": {},
   "source": [
    "175. beta = systematic risk / variance of the Market Portfolio"
   ]
  },
  {
   "cell_type": "markdown",
   "metadata": {},
   "source": [
    "176. beta on the x-axis, Return on the y-axis"
   ]
  },
  {
   "cell_type": "markdown",
   "metadata": {},
   "source": [
    "177. capm_return = risk-free Return + (Market Portfolio Return - risk-free Return) * beta "
   ]
  },
  {
   "cell_type": "markdown",
   "metadata": {},
   "source": [
    "178. alpha = actual/realized Return - capm_return"
   ]
  },
  {
   "cell_type": "code",
   "execution_count": null,
   "metadata": {},
   "outputs": [],
   "source": []
  }
 ],
 "metadata": {
  "kernelspec": {
   "display_name": "Python 3",
   "language": "python",
   "name": "python3"
  },
  "language_info": {
   "codemirror_mode": {
    "name": "ipython",
    "version": 3
   },
   "file_extension": ".py",
   "mimetype": "text/x-python",
   "name": "python",
   "nbconvert_exporter": "python",
   "pygments_lexer": "ipython3",
   "version": "3.7.3"
  }
 },
 "nbformat": 4,
 "nbformat_minor": 2
}
