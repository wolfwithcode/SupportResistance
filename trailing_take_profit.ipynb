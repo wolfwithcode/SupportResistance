{
 "cells": [
  {
   "cell_type": "code",
   "execution_count": 34,
   "metadata": {},
   "outputs": [],
   "source": [
    "from tinydb import TinyDB, Query\n",
    "from datetime import datetime\n",
    "\n",
    "Record = Query()\n",
    "\n",
    "db = TinyDB('trailing_take_profit.json')\n",
    "db_logs = TinyDB('logs.json')\n"
   ]
  },
  {
   "cell_type": "code",
   "execution_count": 9,
   "metadata": {},
   "outputs": [],
   "source": [
    "STOP_LOSS = 0.004       # i.e. default = 0.4%\n",
    "TAKE_PROFIT = 0.01      # i.e. default = 1%\n",
    "ENABLE_STOP_LOSS = True\n",
    "ENABLE_TAKE_PROFIT = True\n"
   ]
  },
  {
   "cell_type": "code",
   "execution_count": 70,
   "metadata": {},
   "outputs": [],
   "source": [
    "def updateOrCreate(coin_record):\n",
    "    found = len(db.search(Record.symbol == coin_record.get('symbol')))\n",
    "    # print(f\"found {found}\")\n",
    "    if found > 0:\n",
    "        db.update(coin_record, Record.symbol == coin_record.get('symbol'))\n",
    "    else:\n",
    "        db.insert(coin_record)\n",
    "        \n",
    "\n",
    "def getCoinRecord(symbol):\n",
    "    arr = db.search(Record.symbol == symbol)\n",
    "#     print(f'arr {arr}')\n",
    "    if(len(arr) <= 0):\n",
    "        return {}\n",
    "    return arr[0]\n",
    "\n",
    "def removeCoinRecord(symbol):\n",
    "    try:\n",
    "        db.remove(Record.symbol == symbol)\n",
    "        return True\n",
    "    except Exception as err:\n",
    "        print(f\"err {err}\")\n",
    "        return False\n",
    "    "
   ]
  },
  {
   "cell_type": "code",
   "execution_count": 71,
   "metadata": {},
   "outputs": [
    {
     "name": "stdout",
     "output_type": "stream",
     "text": [
      "{'symbol': 'BTCUSDT', 'buy_price': 10000, 'take_profit': 11000, 'tralling_take_profit': 0.05, 'stop_order': 0, 'createdAt': '25/08/2021 11:57:43'}\n"
     ]
    }
   ],
   "source": [
    "symbol = \"BTCUSDT\"\n",
    "current_price = 12000\n",
    "buy_price = 10000\n",
    "take_profit = 11000\n",
    "tralling_take_profit = 0.05\n",
    "stop_order = 0\n",
    "\n",
    "\n",
    "coin_record = {\"symbol\": symbol,\"buy_price\": buy_price, \"take_profit\": take_profit, \"tralling_take_profit\": tralling_take_profit, \"stop_order\": stop_order , \"createdAt\": datetime.now().strftime(\"%d/%m/%Y %H:%M:%S\")}\n",
    "# coin_record = {\"symbol\": symbol,\"stop_order\": stop_order , \"createdAt\": datetime.now().strftime(\"%d/%m/%Y %H:%M:%S\")}\n",
    "print(coin_record)\n",
    "updateOrCreate(coin_record)"
   ]
  },
  {
   "cell_type": "code",
   "execution_count": 72,
   "metadata": {},
   "outputs": [
    {
     "data": {
      "text/plain": [
       "{'symbol': 'BTCUSDT',\n",
       " 'buy_price': 10000,\n",
       " 'take_profit': 11000,\n",
       " 'tralling_take_profit': 0.05,\n",
       " 'stop_order': 0,\n",
       " 'createdAt': '25/08/2021 11:57:43'}"
      ]
     },
     "execution_count": 72,
     "metadata": {},
     "output_type": "execute_result"
    }
   ],
   "source": [
    "# def do_stop_order(symbol, )\n",
    "coin_record = getCoinRecord(symbol)\n",
    "coin_record"
   ]
  },
  {
   "cell_type": "code",
   "execution_count": 73,
   "metadata": {},
   "outputs": [],
   "source": [
    "def trailing_take_profit(symbol, current_price):\n",
    "    coin_record = getCoinRecord(symbol)\n",
    "    if(coin_record.get('symbol')):\n",
    "        if(current_price < coin_record.get('take_profit')):\n",
    "            return False\n",
    "        else:\n",
    "            \n",
    "            current_stop_order = coin_record.get('stop_order')\n",
    "            if(current_price <= current_stop_order):\n",
    "                return True\n",
    "            \n",
    "            new_stop_order = current_price*(1-coin_record.get('tralling_take_profit'))\n",
    "            coin_record = {\"symbol\": symbol,\"stop_order\": max(current_stop_order, new_stop_order) , \"createdAt\": datetime.now().strftime(\"%d/%m/%Y %H:%M:%S\")}\n",
    "            print(coin_record)\n",
    "            updateOrCreate(coin_record)\n",
    "        \n",
    "    return False"
   ]
  },
  {
   "cell_type": "code",
   "execution_count": 74,
   "metadata": {},
   "outputs": [
    {
     "name": "stdout",
     "output_type": "stream",
     "text": [
      "enable_take_profit False\n"
     ]
    },
    {
     "data": {
      "text/plain": [
       "{'symbol': 'BTCUSDT',\n",
       " 'buy_price': 10000,\n",
       " 'take_profit': 11000,\n",
       " 'tralling_take_profit': 0.05,\n",
       " 'stop_order': 0,\n",
       " 'createdAt': '25/08/2021 11:57:43'}"
      ]
     },
     "execution_count": 74,
     "metadata": {},
     "output_type": "execute_result"
    }
   ],
   "source": [
    "# buy btc 10000\n",
    "# ENABLE_TAKE_PROFIT\n",
    "enable_take_profit = trailing_take_profit(\"BTCUSDT\", 10000)\n",
    "print(f\"enable_take_profit {enable_take_profit}\")\n",
    "coin_record = getCoinRecord(\"BTCUSDT\")\n",
    "coin_record"
   ]
  },
  {
   "cell_type": "code",
   "execution_count": null,
   "metadata": {},
   "outputs": [],
   "source": []
  },
  {
   "cell_type": "code",
   "execution_count": 81,
   "metadata": {},
   "outputs": [
    {
     "name": "stdout",
     "output_type": "stream",
     "text": [
      "{'symbol': 'BTCUSDT', 'buy_price': 10000, 'take_profit': 11000, 'tralling_take_profit': 0.05, 'stop_order': 0, 'createdAt': '25/08/2021 12:01:17'}\n"
     ]
    }
   ],
   "source": [
    "symbol = \"BTCUSDT\"\n",
    "current_price = 12000\n",
    "buy_price = 10000\n",
    "take_profit = 11000\n",
    "tralling_take_profit = 0.05\n",
    "stop_order = 0\n",
    "\n",
    "\n",
    "coin_record = {\"symbol\": symbol,\"buy_price\": buy_price, \"take_profit\": take_profit, \"tralling_take_profit\": tralling_take_profit, \"stop_order\": stop_order , \"createdAt\": datetime.now().strftime(\"%d/%m/%Y %H:%M:%S\")}\n",
    "# coin_record = {\"symbol\": symbol,\"stop_order\": stop_order , \"createdAt\": datetime.now().strftime(\"%d/%m/%Y %H:%M:%S\")}\n",
    "print(coin_record)\n",
    "updateOrCreate(coin_record)"
   ]
  },
  {
   "cell_type": "code",
   "execution_count": 82,
   "metadata": {},
   "outputs": [
    {
     "name": "stdout",
     "output_type": "stream",
     "text": [
      "enable_take_profit False\n"
     ]
    },
    {
     "data": {
      "text/plain": [
       "{'symbol': 'BTCUSDT',\n",
       " 'buy_price': 10000,\n",
       " 'take_profit': 11000,\n",
       " 'tralling_take_profit': 0.05,\n",
       " 'stop_order': 0,\n",
       " 'createdAt': '25/08/2021 12:01:17'}"
      ]
     },
     "execution_count": 82,
     "metadata": {},
     "output_type": "execute_result"
    }
   ],
   "source": [
    "enable_take_profit = trailing_take_profit(\"BTCUSDT\", 10000)\n",
    "print(f\"enable_take_profit {enable_take_profit}\")\n",
    "coin_record = getCoinRecord(\"BTCUSDT\")\n",
    "coin_record"
   ]
  },
  {
   "cell_type": "code",
   "execution_count": 83,
   "metadata": {},
   "outputs": [
    {
     "name": "stdout",
     "output_type": "stream",
     "text": [
      "enable_take_profit False\n"
     ]
    },
    {
     "data": {
      "text/plain": [
       "{'symbol': 'BTCUSDT',\n",
       " 'buy_price': 10000,\n",
       " 'take_profit': 11000,\n",
       " 'tralling_take_profit': 0.05,\n",
       " 'stop_order': 0,\n",
       " 'createdAt': '25/08/2021 12:01:17'}"
      ]
     },
     "execution_count": 83,
     "metadata": {},
     "output_type": "execute_result"
    }
   ],
   "source": [
    "enable_take_profit = trailing_take_profit(\"BTCUSDT\", 10500)\n",
    "print(f\"enable_take_profit {enable_take_profit}\")\n",
    "coin_record = getCoinRecord(\"BTCUSDT\")\n",
    "coin_record\n"
   ]
  },
  {
   "cell_type": "code",
   "execution_count": 84,
   "metadata": {},
   "outputs": [
    {
     "name": "stdout",
     "output_type": "stream",
     "text": [
      "{'symbol': 'BTCUSDT', 'stop_order': 11400.0, 'createdAt': '25/08/2021 12:01:36'}\n",
      "enable_take_profit False\n"
     ]
    },
    {
     "data": {
      "text/plain": [
       "{'symbol': 'BTCUSDT',\n",
       " 'buy_price': 10000,\n",
       " 'take_profit': 11000,\n",
       " 'tralling_take_profit': 0.05,\n",
       " 'stop_order': 11400.0,\n",
       " 'createdAt': '25/08/2021 12:01:36'}"
      ]
     },
     "execution_count": 84,
     "metadata": {},
     "output_type": "execute_result"
    }
   ],
   "source": [
    "enable_take_profit = trailing_take_profit(\"BTCUSDT\", 12000)\n",
    "print(f\"enable_take_profit {enable_take_profit}\")\n",
    "coin_record = getCoinRecord(\"BTCUSDT\")\n",
    "coin_record"
   ]
  },
  {
   "cell_type": "code",
   "execution_count": 85,
   "metadata": {},
   "outputs": [
    {
     "name": "stdout",
     "output_type": "stream",
     "text": [
      "enable_take_profit True\n"
     ]
    },
    {
     "data": {
      "text/plain": [
       "{'symbol': 'BTCUSDT',\n",
       " 'buy_price': 10000,\n",
       " 'take_profit': 11000,\n",
       " 'tralling_take_profit': 0.05,\n",
       " 'stop_order': 11400.0,\n",
       " 'createdAt': '25/08/2021 12:01:36'}"
      ]
     },
     "execution_count": 85,
     "metadata": {},
     "output_type": "execute_result"
    }
   ],
   "source": [
    "enable_take_profit = trailing_take_profit(\"BTCUSDT\", 11000)\n",
    "print(f\"enable_take_profit {enable_take_profit}\")\n",
    "coin_record = getCoinRecord(\"BTCUSDT\")\n",
    "coin_record"
   ]
  },
  {
   "cell_type": "code",
   "execution_count": 87,
   "metadata": {},
   "outputs": [
    {
     "data": {
      "text/plain": [
       "{}"
      ]
     },
     "execution_count": 87,
     "metadata": {},
     "output_type": "execute_result"
    }
   ],
   "source": [
    "removeCoinRecord(\"BTCUSDT\")\n",
    "coin_record = getCoinRecord(\"BTCUSDT\")\n",
    "coin_record"
   ]
  },
  {
   "cell_type": "code",
   "execution_count": null,
   "metadata": {},
   "outputs": [],
   "source": []
  }
 ],
 "metadata": {
  "kernelspec": {
   "display_name": "Python 3",
   "language": "python",
   "name": "python3"
  },
  "language_info": {
   "codemirror_mode": {
    "name": "ipython",
    "version": 3
   },
   "file_extension": ".py",
   "mimetype": "text/x-python",
   "name": "python",
   "nbconvert_exporter": "python",
   "pygments_lexer": "ipython3",
   "version": "3.6.8"
  }
 },
 "nbformat": 4,
 "nbformat_minor": 4
}
